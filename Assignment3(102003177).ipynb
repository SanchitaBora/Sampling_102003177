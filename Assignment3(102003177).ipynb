{
  "nbformat": 4,
  "nbformat_minor": 0,
  "metadata": {
    "colab": {
      "provenance": [],
      "include_colab_link": true
    },
    "kernelspec": {
      "name": "python3",
      "display_name": "Python 3"
    },
    "language_info": {
      "name": "python"
    }
  },
  "cells": [
    {
      "cell_type": "markdown",
      "metadata": {
        "id": "view-in-github",
        "colab_type": "text"
      },
      "source": [
        "<a href=\"https://colab.research.google.com/github/SanchitaBora/Sampling_102003177/blob/main/Assignment3(102003177).ipynb\" target=\"_parent\"><img src=\"https://colab.research.google.com/assets/colab-badge.svg\" alt=\"Open In Colab\"/></a>"
      ]
    },
    {
      "cell_type": "code",
      "execution_count": 445,
      "metadata": {
        "id": "KtLgUv7s2-ib"
      },
      "outputs": [],
      "source": [
        "import pandas as pd\n",
        "import numpy as np\n",
        "import random\n",
        "from sklearn.linear_model import LogisticRegression\n",
        "from sklearn.tree import DecisionTreeClassifier\n",
        "from sklearn.ensemble import RandomForestClassifier\n",
        "from sklearn.neighbors import KNeighborsClassifier\n",
        "from sklearn.svm import SVC\n",
        "from sklearn.naive_bayes import GaussianNB\n",
        "from sklearn.model_selection import train_test_split\n",
        "from sklearn.metrics import accuracy_score"
      ]
    },
    {
      "cell_type": "code",
      "source": [
        "df=pd.read_csv(\"https://raw.githubusercontent.com/AnjulaMehto/Sampling_Assignment/main/Creditcard_data.csv\")"
      ],
      "metadata": {
        "id": "VGXUXVkf4g1e"
      },
      "execution_count": 446,
      "outputs": []
    },
    {
      "cell_type": "code",
      "source": [
        "print(\"Number of different classes after balancing is\")\n",
        "class_counts = df['Class'].value_counts()\n",
        "class_counts"
      ],
      "metadata": {
        "colab": {
          "base_uri": "https://localhost:8080/"
        },
        "id": "_-K81aRl4eRW",
        "outputId": "f5fc7bff-8af2-49dd-8720-b1f953995e4e"
      },
      "execution_count": 447,
      "outputs": [
        {
          "output_type": "stream",
          "name": "stdout",
          "text": [
            "Number of different classes after balancing is\n"
          ]
        },
        {
          "output_type": "execute_result",
          "data": {
            "text/plain": [
              "0    763\n",
              "1      9\n",
              "Name: Class, dtype: int64"
            ]
          },
          "metadata": {},
          "execution_count": 447
        }
      ]
    },
    {
      "cell_type": "markdown",
      "source": [
        "**Balancing the data using oversampling of minority class**"
      ],
      "metadata": {
        "id": "YnYR21PHHhJW"
      }
    },
    {
      "cell_type": "code",
      "source": [
        "minority_class = class_counts.idxmin()\n",
        "majority_class = class_counts.idxmax()\n",
        "\n",
        "minority_class_df = df[df['Class'] == minority_class]\n",
        "oversampled_minority_df = minority_class_df.sample(n=class_counts[majority_class], replace=True)\n",
        "balanced_df = pd.concat([df, oversampled_minority_df])\n",
        "\n",
        "balanced_df = balanced_df.sample(frac=1).reset_index(drop=True)"
      ],
      "metadata": {
        "id": "rubBHSYZ6Sdk"
      },
      "execution_count": 448,
      "outputs": []
    },
    {
      "cell_type": "code",
      "source": [
        "target_var = \"Class\""
      ],
      "metadata": {
        "id": "T20Eb8t21dLv"
      },
      "execution_count": 449,
      "outputs": []
    },
    {
      "cell_type": "code",
      "source": [
        "print(\"Number of different classes after balancing is\")\n",
        "class_counts = balanced_df['Class'].value_counts()\n",
        "class_counts"
      ],
      "metadata": {
        "colab": {
          "base_uri": "https://localhost:8080/"
        },
        "id": "tI4WTyL355IC",
        "outputId": "30f5d88c-014f-436c-8e09-eb7f6285536b"
      },
      "execution_count": 450,
      "outputs": [
        {
          "output_type": "stream",
          "name": "stdout",
          "text": [
            "Number of different classes after balancing is\n"
          ]
        },
        {
          "output_type": "execute_result",
          "data": {
            "text/plain": [
              "1    772\n",
              "0    763\n",
              "Name: Class, dtype: int64"
            ]
          },
          "metadata": {},
          "execution_count": 450
        }
      ]
    },
    {
      "cell_type": "code",
      "source": [
        "num_rows, num_cols = balanced_df.shape\n",
        "\n",
        "print(\"Number of rows: \", num_rows)\n",
        "print(\"Number of columns: \", num_cols)"
      ],
      "metadata": {
        "colab": {
          "base_uri": "https://localhost:8080/"
        },
        "id": "ANsvHnwb6WRM",
        "outputId": "d7ee68c1-5c59-463a-8140-b451e30ef1a0"
      },
      "execution_count": 451,
      "outputs": [
        {
          "output_type": "stream",
          "name": "stdout",
          "text": [
            "Number of rows:  1535\n",
            "Number of columns:  31\n"
          ]
        }
      ]
    },
    {
      "cell_type": "markdown",
      "source": [
        "**Forming Samples**"
      ],
      "metadata": {
        "id": "kPvCLKKhHz5G"
      }
    },
    {
      "cell_type": "code",
      "source": [
        "np.random.seed(42)"
      ],
      "metadata": {
        "id": "z7--K_PZBBmi"
      },
      "execution_count": 452,
      "outputs": []
    },
    {
      "cell_type": "code",
      "source": [
        "Z=1.96\n",
        "E=0.05\n",
        "p=0.5\n",
        "\n",
        "num=int((pow(Z,2)*p*(1-p))/(pow(E,2)))\n",
        "print(\"The sample size for the samples:\",num)"
      ],
      "metadata": {
        "colab": {
          "base_uri": "https://localhost:8080/"
        },
        "id": "qEHr2as7-CaZ",
        "outputId": "7766a0ef-6017-46fe-a1bf-3122ec66f33d"
      },
      "execution_count": 453,
      "outputs": [
        {
          "output_type": "stream",
          "name": "stdout",
          "text": [
            "The sample size for the samples: 384\n"
          ]
        }
      ]
    },
    {
      "cell_type": "code",
      "source": [
        "# Random Sampling\n",
        "sample1=[]\n",
        "sample1 = balanced_df.sample(num)"
      ],
      "metadata": {
        "id": "elE14Cy--rsr"
      },
      "execution_count": 454,
      "outputs": []
    },
    {
      "cell_type": "code",
      "source": [
        "# Stratified Sampling\n",
        "sample2=[]\n",
        "strata_var = \"Amount\"  \n",
        "strata = pd.qcut(balanced_df[strata_var], 4, labels=False)\n",
        "sample2 = balanced_df.groupby(strata, group_keys=False).apply(lambda x: x.sample(min(len(x), num)))"
      ],
      "metadata": {
        "id": "87EQbNtrBGiY"
      },
      "execution_count": 455,
      "outputs": []
    },
    {
      "cell_type": "code",
      "source": [
        "# Systematic Sampling\n",
        "k=10\n",
        "sample3=[]\n",
        "sample3 = balanced_df.iloc[0::k]"
      ],
      "metadata": {
        "id": "1WKxrLanBJ0f"
      },
      "execution_count": 456,
      "outputs": []
    },
    {
      "cell_type": "code",
      "source": [
        "# Cluster Sampling\n",
        "from sklearn.cluster import KMeans\n",
        "kmeans = KMeans(n_clusters=10, random_state=42).fit(balanced_df)\n",
        "cluster_assignments = kmeans.labels_\n",
        "selected_clusters = [0, 2, 4, 5, 8]\n",
        "cluster_series = pd.Series(cluster_assignments)\n",
        "sample4 = balanced_df[cluster_series.isin(selected_clusters)]"
      ],
      "metadata": {
        "id": "_fyxzXehBOH2"
      },
      "execution_count": 457,
      "outputs": []
    },
    {
      "cell_type": "code",
      "source": [
        "# Convenience Sampling\n",
        "sample5 = pd.concat([balanced_df.head(num), balanced_df.tail(num)])"
      ],
      "metadata": {
        "id": "w7o9QypYBRtY"
      },
      "execution_count": 458,
      "outputs": []
    },
    {
      "cell_type": "code",
      "source": [
        "sample_names = [\"Sampling1\", \"Sampling2\", \"Sampling3\",\"Sampling4\",\"Sampling5\"]\n",
        "samples = [sample1,sample2,sample3,sample4,sample5]"
      ],
      "metadata": {
        "id": "vvXecU0ZBXLv"
      },
      "execution_count": 459,
      "outputs": []
    },
    {
      "cell_type": "markdown",
      "source": [
        "**Applying ML models on samples**"
      ],
      "metadata": {
        "id": "-jGcvrnOIS-G"
      }
    },
    {
      "cell_type": "code",
      "source": [
        "models = [DecisionTreeClassifier(), LogisticRegression(), SVC(), KNeighborsClassifier(n_neighbors=2),GaussianNB()]"
      ],
      "metadata": {
        "id": "FSLNDOG9wrJA"
      },
      "execution_count": 460,
      "outputs": []
    },
    {
      "cell_type": "code",
      "source": [
        "results = {}\n",
        "\n",
        "for model in models:\n",
        "    model_name = model.__class__.__name__\n",
        "    model_results = []\n",
        "    for sample_name, sample in zip(sample_names, samples):\n",
        "        X_train, X_test, y_train, y_test = train_test_split(sample.drop(target_var, axis=1), sample[target_var], test_size=0.3, random_state=42)\n",
        "        model.fit(X_train, y_train)\n",
        "        y_pred = model.predict(X_test)\n",
        "        accuracy = accuracy_score(y_test, y_pred)\n",
        "        model_results.append(accuracy)\n",
        "    results[model_name] = model_results"
      ],
      "metadata": {
        "id": "ocFln_nuw9gz",
        "colab": {
          "base_uri": "https://localhost:8080/"
        },
        "outputId": "ff45b53d-761e-4be0-b104-fafaeba88893"
      },
      "execution_count": 461,
      "outputs": [
        {
          "output_type": "stream",
          "name": "stderr",
          "text": [
            "/usr/local/lib/python3.8/dist-packages/sklearn/linear_model/_logistic.py:814: ConvergenceWarning: lbfgs failed to converge (status=1):\n",
            "STOP: TOTAL NO. of ITERATIONS REACHED LIMIT.\n",
            "\n",
            "Increase the number of iterations (max_iter) or scale the data as shown in:\n",
            "    https://scikit-learn.org/stable/modules/preprocessing.html\n",
            "Please also refer to the documentation for alternative solver options:\n",
            "    https://scikit-learn.org/stable/modules/linear_model.html#logistic-regression\n",
            "  n_iter_i = _check_optimize_result(\n",
            "/usr/local/lib/python3.8/dist-packages/sklearn/linear_model/_logistic.py:814: ConvergenceWarning: lbfgs failed to converge (status=1):\n",
            "STOP: TOTAL NO. of ITERATIONS REACHED LIMIT.\n",
            "\n",
            "Increase the number of iterations (max_iter) or scale the data as shown in:\n",
            "    https://scikit-learn.org/stable/modules/preprocessing.html\n",
            "Please also refer to the documentation for alternative solver options:\n",
            "    https://scikit-learn.org/stable/modules/linear_model.html#logistic-regression\n",
            "  n_iter_i = _check_optimize_result(\n",
            "/usr/local/lib/python3.8/dist-packages/sklearn/linear_model/_logistic.py:814: ConvergenceWarning: lbfgs failed to converge (status=1):\n",
            "STOP: TOTAL NO. of ITERATIONS REACHED LIMIT.\n",
            "\n",
            "Increase the number of iterations (max_iter) or scale the data as shown in:\n",
            "    https://scikit-learn.org/stable/modules/preprocessing.html\n",
            "Please also refer to the documentation for alternative solver options:\n",
            "    https://scikit-learn.org/stable/modules/linear_model.html#logistic-regression\n",
            "  n_iter_i = _check_optimize_result(\n",
            "/usr/local/lib/python3.8/dist-packages/sklearn/linear_model/_logistic.py:814: ConvergenceWarning: lbfgs failed to converge (status=1):\n",
            "STOP: TOTAL NO. of ITERATIONS REACHED LIMIT.\n",
            "\n",
            "Increase the number of iterations (max_iter) or scale the data as shown in:\n",
            "    https://scikit-learn.org/stable/modules/preprocessing.html\n",
            "Please also refer to the documentation for alternative solver options:\n",
            "    https://scikit-learn.org/stable/modules/linear_model.html#logistic-regression\n",
            "  n_iter_i = _check_optimize_result(\n",
            "/usr/local/lib/python3.8/dist-packages/sklearn/linear_model/_logistic.py:814: ConvergenceWarning: lbfgs failed to converge (status=1):\n",
            "STOP: TOTAL NO. of ITERATIONS REACHED LIMIT.\n",
            "\n",
            "Increase the number of iterations (max_iter) or scale the data as shown in:\n",
            "    https://scikit-learn.org/stable/modules/preprocessing.html\n",
            "Please also refer to the documentation for alternative solver options:\n",
            "    https://scikit-learn.org/stable/modules/linear_model.html#logistic-regression\n",
            "  n_iter_i = _check_optimize_result(\n"
          ]
        }
      ]
    },
    {
      "cell_type": "code",
      "source": [
        "results_df = pd.DataFrame.from_dict(results, orient=\"index\", columns=sample_names)\n",
        "results_df"
      ],
      "metadata": {
        "id": "j7gHFGOrBccZ",
        "colab": {
          "base_uri": "https://localhost:8080/",
          "height": 206
        },
        "outputId": "e1d7df45-81b9-41e7-85c5-c6f3f01b359f"
      },
      "execution_count": 462,
      "outputs": [
        {
          "output_type": "execute_result",
          "data": {
            "text/plain": [
              "                        Sampling1  Sampling2  Sampling3  Sampling4  Sampling5\n",
              "DecisionTreeClassifier   0.982759   0.995516   1.000000   0.989865   0.982684\n",
              "LogisticRegression       0.844828   0.926009   0.893617   0.956081   0.870130\n",
              "SVC                      0.620690   0.695067   0.723404   0.750000   0.744589\n",
              "KNeighborsClassifier     0.965517   0.995516   0.978723   0.993243   1.000000\n",
              "GaussianNB               0.620690   0.793722   0.723404   0.695946   0.753247"
            ],
            "text/html": [
              "\n",
              "  <div id=\"df-2bedb921-69bf-4658-854b-be1563ab519d\">\n",
              "    <div class=\"colab-df-container\">\n",
              "      <div>\n",
              "<style scoped>\n",
              "    .dataframe tbody tr th:only-of-type {\n",
              "        vertical-align: middle;\n",
              "    }\n",
              "\n",
              "    .dataframe tbody tr th {\n",
              "        vertical-align: top;\n",
              "    }\n",
              "\n",
              "    .dataframe thead th {\n",
              "        text-align: right;\n",
              "    }\n",
              "</style>\n",
              "<table border=\"1\" class=\"dataframe\">\n",
              "  <thead>\n",
              "    <tr style=\"text-align: right;\">\n",
              "      <th></th>\n",
              "      <th>Sampling1</th>\n",
              "      <th>Sampling2</th>\n",
              "      <th>Sampling3</th>\n",
              "      <th>Sampling4</th>\n",
              "      <th>Sampling5</th>\n",
              "    </tr>\n",
              "  </thead>\n",
              "  <tbody>\n",
              "    <tr>\n",
              "      <th>DecisionTreeClassifier</th>\n",
              "      <td>0.982759</td>\n",
              "      <td>0.995516</td>\n",
              "      <td>1.000000</td>\n",
              "      <td>0.989865</td>\n",
              "      <td>0.982684</td>\n",
              "    </tr>\n",
              "    <tr>\n",
              "      <th>LogisticRegression</th>\n",
              "      <td>0.844828</td>\n",
              "      <td>0.926009</td>\n",
              "      <td>0.893617</td>\n",
              "      <td>0.956081</td>\n",
              "      <td>0.870130</td>\n",
              "    </tr>\n",
              "    <tr>\n",
              "      <th>SVC</th>\n",
              "      <td>0.620690</td>\n",
              "      <td>0.695067</td>\n",
              "      <td>0.723404</td>\n",
              "      <td>0.750000</td>\n",
              "      <td>0.744589</td>\n",
              "    </tr>\n",
              "    <tr>\n",
              "      <th>KNeighborsClassifier</th>\n",
              "      <td>0.965517</td>\n",
              "      <td>0.995516</td>\n",
              "      <td>0.978723</td>\n",
              "      <td>0.993243</td>\n",
              "      <td>1.000000</td>\n",
              "    </tr>\n",
              "    <tr>\n",
              "      <th>GaussianNB</th>\n",
              "      <td>0.620690</td>\n",
              "      <td>0.793722</td>\n",
              "      <td>0.723404</td>\n",
              "      <td>0.695946</td>\n",
              "      <td>0.753247</td>\n",
              "    </tr>\n",
              "  </tbody>\n",
              "</table>\n",
              "</div>\n",
              "      <button class=\"colab-df-convert\" onclick=\"convertToInteractive('df-2bedb921-69bf-4658-854b-be1563ab519d')\"\n",
              "              title=\"Convert this dataframe to an interactive table.\"\n",
              "              style=\"display:none;\">\n",
              "        \n",
              "  <svg xmlns=\"http://www.w3.org/2000/svg\" height=\"24px\"viewBox=\"0 0 24 24\"\n",
              "       width=\"24px\">\n",
              "    <path d=\"M0 0h24v24H0V0z\" fill=\"none\"/>\n",
              "    <path d=\"M18.56 5.44l.94 2.06.94-2.06 2.06-.94-2.06-.94-.94-2.06-.94 2.06-2.06.94zm-11 1L8.5 8.5l.94-2.06 2.06-.94-2.06-.94L8.5 2.5l-.94 2.06-2.06.94zm10 10l.94 2.06.94-2.06 2.06-.94-2.06-.94-.94-2.06-.94 2.06-2.06.94z\"/><path d=\"M17.41 7.96l-1.37-1.37c-.4-.4-.92-.59-1.43-.59-.52 0-1.04.2-1.43.59L10.3 9.45l-7.72 7.72c-.78.78-.78 2.05 0 2.83L4 21.41c.39.39.9.59 1.41.59.51 0 1.02-.2 1.41-.59l7.78-7.78 2.81-2.81c.8-.78.8-2.07 0-2.86zM5.41 20L4 18.59l7.72-7.72 1.47 1.35L5.41 20z\"/>\n",
              "  </svg>\n",
              "      </button>\n",
              "      \n",
              "  <style>\n",
              "    .colab-df-container {\n",
              "      display:flex;\n",
              "      flex-wrap:wrap;\n",
              "      gap: 12px;\n",
              "    }\n",
              "\n",
              "    .colab-df-convert {\n",
              "      background-color: #E8F0FE;\n",
              "      border: none;\n",
              "      border-radius: 50%;\n",
              "      cursor: pointer;\n",
              "      display: none;\n",
              "      fill: #1967D2;\n",
              "      height: 32px;\n",
              "      padding: 0 0 0 0;\n",
              "      width: 32px;\n",
              "    }\n",
              "\n",
              "    .colab-df-convert:hover {\n",
              "      background-color: #E2EBFA;\n",
              "      box-shadow: 0px 1px 2px rgba(60, 64, 67, 0.3), 0px 1px 3px 1px rgba(60, 64, 67, 0.15);\n",
              "      fill: #174EA6;\n",
              "    }\n",
              "\n",
              "    [theme=dark] .colab-df-convert {\n",
              "      background-color: #3B4455;\n",
              "      fill: #D2E3FC;\n",
              "    }\n",
              "\n",
              "    [theme=dark] .colab-df-convert:hover {\n",
              "      background-color: #434B5C;\n",
              "      box-shadow: 0px 1px 3px 1px rgba(0, 0, 0, 0.15);\n",
              "      filter: drop-shadow(0px 1px 2px rgba(0, 0, 0, 0.3));\n",
              "      fill: #FFFFFF;\n",
              "    }\n",
              "  </style>\n",
              "\n",
              "      <script>\n",
              "        const buttonEl =\n",
              "          document.querySelector('#df-2bedb921-69bf-4658-854b-be1563ab519d button.colab-df-convert');\n",
              "        buttonEl.style.display =\n",
              "          google.colab.kernel.accessAllowed ? 'block' : 'none';\n",
              "\n",
              "        async function convertToInteractive(key) {\n",
              "          const element = document.querySelector('#df-2bedb921-69bf-4658-854b-be1563ab519d');\n",
              "          const dataTable =\n",
              "            await google.colab.kernel.invokeFunction('convertToInteractive',\n",
              "                                                     [key], {});\n",
              "          if (!dataTable) return;\n",
              "\n",
              "          const docLinkHtml = 'Like what you see? Visit the ' +\n",
              "            '<a target=\"_blank\" href=https://colab.research.google.com/notebooks/data_table.ipynb>data table notebook</a>'\n",
              "            + ' to learn more about interactive tables.';\n",
              "          element.innerHTML = '';\n",
              "          dataTable['output_type'] = 'display_data';\n",
              "          await google.colab.output.renderOutput(dataTable, element);\n",
              "          const docLink = document.createElement('div');\n",
              "          docLink.innerHTML = docLinkHtml;\n",
              "          element.appendChild(docLink);\n",
              "        }\n",
              "      </script>\n",
              "    </div>\n",
              "  </div>\n",
              "  "
            ]
          },
          "metadata": {},
          "execution_count": 462
        }
      ]
    },
    {
      "cell_type": "markdown",
      "source": [
        "**Finding maximum value for each model**"
      ],
      "metadata": {
        "id": "HjDJR7EjJqZB"
      }
    },
    {
      "cell_type": "code",
      "source": [
        "max_row_values = results_df.apply(lambda x: (x.idxmax(), x.max()), axis=1)\n",
        "for index, value in max_row_values.items():\n",
        "    print(f\"Maximum accuracy for {index} is {value[1]} which is given by: {value[0]}\")"
      ],
      "metadata": {
        "id": "dLPXgin7Jy6e",
        "colab": {
          "base_uri": "https://localhost:8080/"
        },
        "outputId": "744a17bd-693d-4e0c-fbae-c665bb9fabd2"
      },
      "execution_count": 463,
      "outputs": [
        {
          "output_type": "stream",
          "name": "stdout",
          "text": [
            "Maximum accuracy for DecisionTreeClassifier is 1.0 which is given by: Sampling3\n",
            "Maximum accuracy for LogisticRegression is 0.956081081081081 which is given by: Sampling4\n",
            "Maximum accuracy for SVC is 0.75 which is given by: Sampling4\n",
            "Maximum accuracy for KNeighborsClassifier is 1.0 which is given by: Sampling5\n",
            "Maximum accuracy for GaussianNB is 0.7937219730941704 which is given by: Sampling2\n"
          ]
        }
      ]
    }
  ]
}